{
 "cells": [
  {
   "cell_type": "code",
   "execution_count": 4,
   "id": "f0447bb6",
   "metadata": {},
   "outputs": [],
   "source": [
    "# -*- coding: utf-8 -*-\n",
    "\"\"\"\n",
    "Created on Sat Dec 11 13:43:00 2021\n",
    "\n",
    "@author: RAVITEJA\n",
    "\"\"\"\n",
    "\n",
    "\n",
    "def PARTLR(A,L,R):\n",
    "   \n",
    "    k=R\n",
    "    j=L\n",
    "    pivot=A[L]\n",
    "    while(j!=k):\n",
    " \n",
    "        if(A[j]>=pivot):\n",
    "            if(A[k]<=pivot):\n",
    "                temp=A[j]\n",
    "                A[j]=A[k]\n",
    "                A[k]=temp\n",
    "                j=j+1\n",
    "            else:\n",
    "                k=k-1\n",
    "        else:\n",
    "            j=j+1   \n",
    "    \n",
    "    return A #added return\n",
    "\n",
    "def PART0(A):\n",
    "    k=len(A)-1\n",
    "    j=0\n",
    "    while(j!=k):\n",
    "            \n",
    "            if(A[j]>=0):\n",
    "                if(A[k]<0):\n",
    "                    temp=A[j]\n",
    "                    A[j]=A[k]\n",
    "                    A[k]=temp\n",
    "                    j=j+1\n",
    "                else:\n",
    "                    k=k-1\n",
    "            else:\n",
    "                j=j+1\n",
    "    return A #added return\n",
    "\n",
    "\n"
   ]
  },
  {
   "cell_type": "code",
   "execution_count": 5,
   "id": "8aa93aa3",
   "metadata": {},
   "outputs": [
    {
     "name": "stdout",
     "output_type": "stream",
     "text": [
      "[-8, -9, -3, -4, -5, -1, 0, 11, 9, 8, 7, 0, 0, 0, 0, 9, 5, 5]\n",
      "[5, 7, 9, 11, 0, -9, -5, -4, -3, -1, 8, 0, 0, 0, 0, 9, 5, -8]\n"
     ]
    }
   ],
   "source": [
    "\n",
    "A = [5,7,9,11,0,-1,-5,-4,-3,8,-9,0,0,0,0,9,5,-8]\n",
    "PART0(A)#partition by Zero\n",
    "print(A)\n",
    "A = [5,7,9,11,0,-1,-5,-4,-3,8,-9,0,0,0,0,9,5,-8]\n",
    "PARTLR(A,5,10)#partition within the sublist by sublist[0]\n",
    "print(A)"
   ]
  }
 ],
 "metadata": {
  "kernelspec": {
   "display_name": "Python 3 (ipykernel)",
   "language": "python",
   "name": "python3"
  },
  "language_info": {
   "codemirror_mode": {
    "name": "ipython",
    "version": 3
   },
   "file_extension": ".py",
   "mimetype": "text/x-python",
   "name": "python",
   "nbconvert_exporter": "python",
   "pygments_lexer": "ipython3",
   "version": "3.9.7"
  }
 },
 "nbformat": 4,
 "nbformat_minor": 5
}
