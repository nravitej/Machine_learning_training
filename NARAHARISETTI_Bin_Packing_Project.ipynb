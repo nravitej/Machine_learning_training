{
 "cells": [
  {
   "cell_type": "markdown",
   "metadata": {},
   "source": [
    "#  Bin Packing Problems: Strategies & Tactics\n",
    "## Please:  change the name of this file, use your Family Name, and write it also here"
   ]
  },
  {
   "cell_type": "markdown",
   "metadata": {},
   "source": [
    "# Family Name: NARAHARISETTI"
   ]
  },
  {
   "cell_type": "markdown",
   "metadata": {},
   "source": [
    "## A Bin Class"
   ]
  },
  {
   "cell_type": "code",
   "execution_count": 2,
   "metadata": {},
   "outputs": [],
   "source": [
    "# A Bin Class\n",
    "class Bin:\n",
    "    def __init__(self):\n",
    "        self.list = []\n",
    "\n",
    "    def addItem(self, item):\n",
    "        self.list.append(item)\n",
    "\n",
    "    def removeItem(self, item):\n",
    "        self.list.remove(item)\n",
    "\n",
    "    def sum(self):\n",
    "        total = 0\n",
    "        for elem in self.list:\n",
    "            total += elem\n",
    "        return total\n",
    "\n",
    "    def show(self):\n",
    "        return self.list"
   ]
  },
  {
   "cell_type": "markdown",
   "metadata": {},
   "source": [
    "## The First Fit Algorithm"
   ]
  },
  {
   "cell_type": "code",
   "execution_count": 3,
   "metadata": {},
   "outputs": [],
   "source": [
    "# A implementation of FT Algorithm  \n",
    "# FT: First Fit\n",
    "\n",
    "def First_Fit(List_items, BinCapacity):\n",
    "    \"\"\" Returns 'list of bins' with input List_items inside. \"\"\"\n",
    "    List_bins = []\n",
    "    List_bins.append(Bin()) # Always Add the first empty bin to the list\n",
    "\n",
    "    for item in List_items:\n",
    "        # Go through bins and try to allocate  when it is possible\n",
    "        alloc_flag = False\n",
    "\n",
    "        for bin in List_bins:\n",
    "            if bin.sum() + item <= BinCapacity:\n",
    "                bin.addItem(item)\n",
    "                alloc_flag = True\n",
    "                break\n",
    "\n",
    "        # If item is not placed in bins in list, create a new bin\n",
    "        # and place it into it.\n",
    "        if alloc_flag == False:\n",
    "            newBin = Bin()\n",
    "            newBin.addItem(item)\n",
    "            List_bins.append(newBin)\n",
    "\n",
    "# Turn List_bins into List_Items\n",
    "    List_items = []\n",
    "    for bin in List_bins:\n",
    "        List_items.append(bin.show())\n",
    "# Return\n",
    "    return(List_items)"
   ]
  },
  {
   "cell_type": "markdown",
   "metadata": {},
   "source": [
    "## The First Fit Decreasing"
   ]
  },
  {
   "cell_type": "code",
   "execution_count": 4,
   "metadata": {},
   "outputs": [],
   "source": [
    "# A implementation of FFD Algorithm  \n",
    "# FFD: First Fit Decreasing\n",
    "def First_Fit_Dec(List_items, BinCapacity):\n",
    "    \"\"\" Returns 'list of bins' with input List_items inside. \"\"\"\n",
    "# Sort list in decreasing order\n",
    "    List_items=sorted(List_items)\n",
    "    List_items=List_items[::-1]\n",
    "    # If you want to use Numpy\n",
    "    # List_items=-np.sort(-List_items) # A Trick to Sort in Decreasing Order\n",
    "    # you can also use array_copy = np.sort(List_Items)[::-1]\n",
    "    \n",
    "    # Apply first-fit algorithm\n",
    "    return(First_Fit(List_items, BinCapacity))"
   ]
  },
  {
   "cell_type": "markdown",
   "metadata": {},
   "source": [
    "## Code here the Next Fit Algorithm"
   ]
  },
  {
   "cell_type": "code",
   "execution_count": 113,
   "metadata": {},
   "outputs": [],
   "source": [
    "# A implementation of NFT Algorithm  \n",
    "# NFT: Next Fit\n",
    "def Next_Fit(List_items, BinCapacity):\n",
    "    \"\"\" Returns 'list of bins' with input List_items inside. \"\"\"\n",
    "    List_bins = []\n",
    "    List_bins.append(Bin()) # Always Add the first empty bin to the list\n",
    "\n",
    "    for item in List_items:\n",
    "        # Go through bins and try to allocate  when it is possible\n",
    "        alloc_flag = False\n",
    "\n",
    "        #for bin in List_bins:\n",
    "        bin = List_bins[-1]\n",
    "        if bin.sum() + item <= BinCapacity or bin.sum() == 0:\n",
    "            bin.addItem(item)\n",
    "            alloc_flag = True\n",
    "                \n",
    "\n",
    "        # If item is not placed in bins in list, create a new bin\n",
    "        # and place it into it.\n",
    "        if alloc_flag == False:\n",
    "            newBin = Bin()\n",
    "            newBin.addItem(item)\n",
    "            List_bins.append(newBin)\n",
    "\n",
    "# Turn List_bins into List_Items\n",
    "    List_items = []\n",
    "    for bin in List_bins:\n",
    "        List_items.append(bin.show())\n",
    "# Return\n",
    "    return(List_items)"
   ]
  },
  {
   "cell_type": "markdown",
   "metadata": {},
   "source": [
    "## Code here the Next Fit Decreasing Algorithm"
   ]
  },
  {
   "cell_type": "code",
   "execution_count": 114,
   "metadata": {},
   "outputs": [],
   "source": [
    "# A implementation of NFD Algorithm  \n",
    "# NFD: Next Fit Decreasing\n",
    "def Next_Fit_Dec(List_items, BinCapacity):\n",
    "    \"\"\" Returns 'list of bins' with input List_items inside. \"\"\"\n",
    "# Sort list in decreasing order\n",
    "    List_items=sorted(List_items)\n",
    "    List_items=List_items[::-1]\n",
    "    # If you want to use Numpy\n",
    "    # List_items=-np.sort(-List_items) # A Trick to Sort in Decreasing Order\n",
    "    # you can also use array_copy = np.sort(List_Items)[::-1]\n",
    "    \n",
    "    # Apply first-fit algorith\n",
    "    L=Next_Fit(List_items, BinCapacity)\n",
    "    return(L)"
   ]
  },
  {
   "cell_type": "markdown",
   "metadata": {},
   "source": [
    "# Your Work (I):\n",
    "## The Best Fit Decreasing\n",
    "## Code here the algorithm"
   ]
  },
  {
   "cell_type": "code",
   "execution_count": 7,
   "metadata": {},
   "outputs": [],
   "source": [
    "def Best_Fit(List_items, BinCapacity):\n",
    "    \"\"\" Returns 'list of bins' with input List_items inside. \"\"\"\n",
    "    List_bins = []\n",
    "    List_bins.append(Bin())  # Always Add the first empty bin to the list\n",
    "\n",
    "    for item in List_items:\n",
    "        # Go through bins and try to allocate  when it is possible\n",
    "        alloc_flag = False\n",
    "\n",
    "        for bin in List_bins:\n",
    "            if bin.sum() + item <= BinCapacity:\n",
    "                bin.addItem(item)\n",
    "                alloc_flag = True\n",
    "                break\n",
    "\n",
    "        # If item is not placed in bins in list, create a new bin\n",
    "        # and place it into it.\n",
    "        if alloc_flag == False:\n",
    "            newBin = Bin()\n",
    "            newBin.addItem(item)\n",
    "            List_bins.append(newBin)\n",
    "        List_bins.sort(key=lambda bin: bin.sum())\n",
    "\n",
    "\n",
    "    # Turn List_bins into List_Items\n",
    "    List_items = []\n",
    "    for bin in List_bins:\n",
    "        List_items.append(bin.show())\n",
    "\n",
    "    return (List_items)"
   ]
  },
  {
   "cell_type": "code",
   "execution_count": 8,
   "metadata": {},
   "outputs": [],
   "source": [
    "# A implementation of BFD Algorithm  \n",
    "# BFD: Nest Fit Decreasing\n",
    "def Best_Fit_Dec(List_items, BinCapacity):\n",
    "    \"\"\" Returns 'list of bins' with input List_items inside. \"\"\"\n",
    "# Sort list in decreasing order\n",
    "    List_items=sorted(List_items)\n",
    "    List_items=List_items[::-1]\n",
    "    # If you want to use Numpy\n",
    "    # List_items=-np.sort(-List_items) # A Trick to Sort in Decreasing Order\n",
    "    # you can also use array_copy = np.sort(List_Items)[::-1]\n",
    "    \n",
    "    # Apply first-fit algorith\n",
    "    return(Best_Fit(List_items, BinCapacity))"
   ]
  },
  {
   "cell_type": "markdown",
   "metadata": {},
   "source": [
    "## The Interlacing Algorithm with FF"
   ]
  },
  {
   "cell_type": "code",
   "execution_count": 12,
   "metadata": {},
   "outputs": [],
   "source": [
    "# ... your code here\n",
    "# Look at the \"Tricks notebook\" "
   ]
  },
  {
   "cell_type": "code",
   "execution_count": 9,
   "metadata": {},
   "outputs": [],
   "source": [
    "# Interlacing of two lists\n",
    "def Interlacing(A,B):\n",
    "    List_items=[]\n",
    "    size=len(A)+len(B)\n",
    "    for i in range(size//2):\n",
    "        List_items.append(A[i])\n",
    "        if i!=len(B):\n",
    "            List_items.append(B[i])\n",
    "    if(len(A)!=len(B)):\n",
    "        List_items.append(B[len(B)-1])\n",
    "   \n",
    "    return (List_items)\n",
    "    "
   ]
  },
  {
   "cell_type": "code",
   "execution_count": 10,
   "metadata": {},
   "outputs": [],
   "source": [
    "def SplitAndInterlace(List_items):\n",
    "    mid=len(List_items)//2\n",
    "    A=[]\n",
    "    B=[]\n",
    "    for i in range(len(List_items)):\n",
    "        if i<=mid:\n",
    "            A.append(List_items[i])\n",
    "        else:\n",
    "            B.append(List_items[i])\n",
    "    \n",
    "    return (Interlacing(A,B[::-1]))\n",
    "    "
   ]
  },
  {
   "cell_type": "code",
   "execution_count": 11,
   "metadata": {},
   "outputs": [
    {
     "name": "stdout",
     "output_type": "stream",
     "text": [
      "[88, 1, 52, 1, 49, 1, 48, 1, 47, 1, 46, 1, 45, 1, 45, 2, 44, 3, 43, 4, 42, 5, 41, 6, 40, 7, 30, 7, 30, 8, 24, 8, 23, 8, 22, 9, 21, 9, 20, 9, 20, 10, 19, 10, 18, 10, 18, 10, 18, 11, 17, 12, 16, 12, 16, 13, 15, 14, 15, 14]\n"
     ]
    }
   ],
   "source": [
    "# Code of Your  Interlacing  Strategy \n",
    "# ....\n",
    "List_items = [8, 16, 12, 8, 45, 18, 30, 7, 10, 14, 9, 9, 52, 88,\n",
    "         1,1,1,1,1,1,1,10,11,12,13,14,15,16,17,18,18,19,10,20,\n",
    "        30,40,41,42,43,44,45,46,47,48,49,2,3,4,5,6,7,8,9,10,\n",
    "         15,20,21,22,23,24]\n",
    "List_items=sorted(List_items)\n",
    "List_items=List_items[::-1]\n",
    "print(SplitAndInterlace(List_items))\n",
    "\n",
    "\n"
   ]
  },
  {
   "cell_type": "code",
   "execution_count": 12,
   "metadata": {},
   "outputs": [],
   "source": [
    "# A implementation of First fit Interlacing Algorithm  \n",
    "# FFI: First Fit Interlacing\n",
    "def First_Fit_Interlace(List_items, BinCapacity):\n",
    "    \"\"\" Returns 'list of bins' with input List_items inside. \"\"\"\n",
    "# Sort list in increqsing order\n",
    "    List_items=sorted(List_items)\n",
    "    \n",
    "    List_items=SplitAndInterlace(List_items).copy()#Interlacing startegy\n",
    "    # If you want to use Numpy\n",
    "    # List_items=-np.sort(-List_items) # A Trick to Sort in Decreasing Order\n",
    "    # you can also use array_copy = np.sort(List_Items)[::-1]\n",
    "    \n",
    "    # Apply first-fit algorith\n",
    "    return(First_Fit(List_items, BinCapacity))"
   ]
  },
  {
   "cell_type": "code",
   "execution_count": 13,
   "metadata": {},
   "outputs": [],
   "source": [
    "# A implementation of Best fit Interlacing Algorithm  \n",
    "# BFI: Best Fit Interlacing\n",
    "def Best_Fit_Interlace(List_items, BinCapacity):\n",
    "    \"\"\" Returns 'list of bins' with input List_items inside. \"\"\"\n",
    "# Sort list in increqsing order\n",
    "    List_items=sorted(List_items)\n",
    "    \n",
    "    List_items=SplitAndInterlace(List_items).copy()#Interlacing startegy\n",
    "    # If you want to use Numpy\n",
    "    # List_items=-np.sort(-List_items) # A Trick to Sort in Decreasing Order\n",
    "    # you can also use array_copy = np.sort(List_Items)[::-1]\n",
    "    \n",
    "    # Apply first-fit algorith\n",
    "    return(Best_Fit(List_items, BinCapacity))"
   ]
  },
  {
   "cell_type": "markdown",
   "metadata": {},
   "source": [
    "## Examples"
   ]
  },
  {
   "cell_type": "code",
   "execution_count": 14,
   "metadata": {},
   "outputs": [
    {
     "name": "stdout",
     "output_type": "stream",
     "text": [
      "17  :  [[8, 16, 12, 8, 18, 7, 1, 1, 1, 1, 1, 1], [45, 30], [10, 14, 9, 9, 1, 10, 11, 10], [52, 12, 2, 3, 4], [88], [13, 14, 15, 16, 17], [18, 18, 19, 20], [30, 40, 5], [41, 6, 7, 8, 9], [42, 10, 15], [43, 20], [44, 21], [45, 22], [46, 23], [47, 24], [48], [49]]\n"
     ]
    }
   ],
   "source": [
    "List_items = [8, 16, 12, 8, 45, 18, 30, 7, 10, 14, 9, 9, 52, 88,\n",
    "         1,1,1,1,1,1,1,10,11,12,13,14,15,16,17,18,18,19,10,20,\n",
    "        30,40,41,42,43,44,45,46,47,48,49,2,3,4,5,6,7,8,9,10,\n",
    "         15,20,21,22,23,24]\n",
    "# items.reverse()\n",
    "# print(items)\n",
    "BinCapacity = 75\n",
    "\n",
    "# First-fit Algorithm\n",
    "bins=First_Fit(List_items, BinCapacity)\n",
    "print(len(bins),\" : \",bins)"
   ]
  },
  {
   "cell_type": "code",
   "execution_count": 15,
   "metadata": {},
   "outputs": [
    {
     "name": "stdout",
     "output_type": "stream",
     "text": [
      "16  :  [[52, 23], [88], [49, 24, 2], [48, 22, 5], [47, 21, 7], [46, 20, 9], [45, 30], [45, 30], [44, 20, 11], [43, 19, 13], [42, 18, 15], [41, 18, 16], [40, 18, 17], [16, 15, 14, 14, 12, 4], [12, 10, 10, 10, 10, 9, 9, 3, 1, 1], [8, 8, 8, 7, 6, 1, 1, 1, 1, 1]]\n"
     ]
    }
   ],
   "source": [
    "# First-fit Decreasing Algorithm\n",
    "List_items = [8, 16, 12, 8, 45, 18, 30, 7, 10, 14, 9, 9, 52, 88,\n",
    "         1,1,1,1,1,1,1,10,11,12,13,14,15,16,17,18,18,19,10,20,\n",
    "        30,40,41,42,43,44,45,46,47,48,49,2,3,4,5,6,7,8,9,10,\n",
    "         15,20,21,22,23,24]\n",
    "# items.reverse()\n",
    "# print(items)\n",
    "BinCapacity = 75\n",
    "bins=First_Fit_Dec(List_items, BinCapacity)\n",
    "print(len(bins),\" : \",bins)"
   ]
  },
  {
   "cell_type": "code",
   "execution_count": 181,
   "metadata": {},
   "outputs": [],
   "source": [
    "BinCapacity=10\n",
    "L=[9,8,7,6,5,4,3,2,1]"
   ]
  },
  {
   "cell_type": "code",
   "execution_count": 182,
   "metadata": {},
   "outputs": [
    {
     "name": "stdout",
     "output_type": "stream",
     "text": [
      "Length of solution:  5\n",
      "[[9, 1], [8, 2], [7, 3], [6, 4], [5]]\n"
     ]
    }
   ],
   "source": [
    "# First-fit Algorithm\n",
    "bins=First_Fit(L, BinCapacity)\n",
    "print(\"Length of solution: \",len(bins))\n",
    "print(bins)"
   ]
  },
  {
   "cell_type": "code",
   "execution_count": 183,
   "metadata": {},
   "outputs": [
    {
     "name": "stdout",
     "output_type": "stream",
     "text": [
      "Length of solution:  5\n",
      "[[9, 1], [8, 2], [7, 3], [6, 4], [5]]\n"
     ]
    }
   ],
   "source": [
    "# First-fit Decreasing Algorithm\n",
    "bins=First_Fit_Dec(L, BinCapacity)\n",
    "print(\"Length of solution: \",len(bins))\n",
    "print(bins)"
   ]
  },
  {
   "cell_type": "code",
   "execution_count": 125,
   "metadata": {},
   "outputs": [],
   "source": [
    "def Test_1(n, BinCapacity):\n",
    "# Let n > 0 an integer and C = 100 :\n",
    "# 1: 6 n times the value 51\n",
    "# 2: 6 n times the value 27\n",
    "# 3: 6 n times the value 26\n",
    "# 4: 12 n times the value 23\n",
    "    L51=[51 for i in range(6*n) ]\n",
    "    L27=[27 for i in range(6*n) ]\n",
    "    L26=[26 for i in range(6*n) ]\n",
    "    L23=[23 for i in range(12*n) ]\n",
    "    Ltotal=[]    \n",
    "    Ltotal.extend(L51)\n",
    "    Ltotal.extend(L27)\n",
    "    Ltotal.extend(L26)\n",
    "    Ltotal.extend(L23)    \n",
    "    print(\"Length of Input: \",len(Ltotal),Ltotal)\n",
    "    return(Ltotal) "
   ]
  },
  {
   "cell_type": "code",
   "execution_count": 6,
   "metadata": {},
   "outputs": [
    {
     "data": {
      "text/plain": [
       "100"
      ]
     },
     "execution_count": 6,
     "metadata": {},
     "output_type": "execute_result"
    }
   ],
   "source": [
    "# 6n bins\n",
    "51+26+23"
   ]
  },
  {
   "cell_type": "code",
   "execution_count": 8,
   "metadata": {},
   "outputs": [
    {
     "data": {
      "text/plain": [
       "100"
      ]
     },
     "execution_count": 8,
     "metadata": {},
     "output_type": "execute_result"
    }
   ],
   "source": [
    "# 3 n bins \n",
    "27+27+23+23"
   ]
  },
  {
   "cell_type": "code",
   "execution_count": 9,
   "metadata": {},
   "outputs": [],
   "source": [
    "# Optimal solition: 6n + 3N = 9 n bins"
   ]
  },
  {
   "cell_type": "code",
   "execution_count": 126,
   "metadata": {},
   "outputs": [
    {
     "name": "stdout",
     "output_type": "stream",
     "text": [
      "81\n",
      "Length of Input:  270 [51, 51, 51, 51, 51, 51, 51, 51, 51, 51, 51, 51, 51, 51, 51, 51, 51, 51, 51, 51, 51, 51, 51, 51, 51, 51, 51, 51, 51, 51, 51, 51, 51, 51, 51, 51, 51, 51, 51, 51, 51, 51, 51, 51, 51, 51, 51, 51, 51, 51, 51, 51, 51, 51, 27, 27, 27, 27, 27, 27, 27, 27, 27, 27, 27, 27, 27, 27, 27, 27, 27, 27, 27, 27, 27, 27, 27, 27, 27, 27, 27, 27, 27, 27, 27, 27, 27, 27, 27, 27, 27, 27, 27, 27, 27, 27, 27, 27, 27, 27, 27, 27, 27, 27, 27, 27, 27, 27, 26, 26, 26, 26, 26, 26, 26, 26, 26, 26, 26, 26, 26, 26, 26, 26, 26, 26, 26, 26, 26, 26, 26, 26, 26, 26, 26, 26, 26, 26, 26, 26, 26, 26, 26, 26, 26, 26, 26, 26, 26, 26, 26, 26, 26, 26, 26, 26, 26, 26, 26, 26, 26, 26, 23, 23, 23, 23, 23, 23, 23, 23, 23, 23, 23, 23, 23, 23, 23, 23, 23, 23, 23, 23, 23, 23, 23, 23, 23, 23, 23, 23, 23, 23, 23, 23, 23, 23, 23, 23, 23, 23, 23, 23, 23, 23, 23, 23, 23, 23, 23, 23, 23, 23, 23, 23, 23, 23, 23, 23, 23, 23, 23, 23, 23, 23, 23, 23, 23, 23, 23, 23, 23, 23, 23, 23, 23, 23, 23, 23, 23, 23, 23, 23, 23, 23, 23, 23, 23, 23, 23, 23, 23, 23, 23, 23, 23, 23, 23, 23, 23, 23, 23, 23, 23, 23, 23, 23, 23, 23, 23, 23]\n"
     ]
    }
   ],
   "source": [
    "print(9*9)\n",
    "Ltotal=Test_1(n=9,BinCapacity=100)"
   ]
  },
  {
   "cell_type": "code",
   "execution_count": 37,
   "metadata": {},
   "outputs": [
    {
     "name": "stdout",
     "output_type": "stream",
     "text": [
      "99  :  [[26, 26, 26], [26, 26, 26], [26, 26, 26], [26, 26, 26], [26, 26, 26], [26, 26, 26], [26, 26, 26], [26, 26, 26], [26, 26, 26], [26, 26, 26], [26, 26, 26], [26, 26, 26], [26, 26, 26], [26, 26, 26], [26, 26, 26], [26, 26, 26], [26, 26, 26], [26, 26, 26], [51, 27], [51, 27], [51, 27], [51, 27], [51, 27], [51, 27], [51, 27], [51, 27], [51, 27], [51, 27], [51, 27], [51, 27], [51, 27], [51, 27], [51, 27], [51, 27], [51, 27], [51, 27], [51, 27], [51, 27], [51, 27], [51, 27], [51, 27], [51, 27], [51, 27], [51, 27], [51, 27], [51, 27], [51, 27], [51, 27], [51, 27], [51, 27], [51, 27], [51, 27], [51, 27], [51, 27], [51, 27], [51, 27], [51, 27], [51, 27], [51, 27], [51, 27], [51, 27], [51, 27], [51, 27], [51, 27], [51, 27], [51, 27], [51, 27], [51, 27], [51, 27], [51, 27], [51, 27], [51, 27], [23, 23, 23, 23], [23, 23, 23, 23], [23, 23, 23, 23], [23, 23, 23, 23], [23, 23, 23, 23], [23, 23, 23, 23], [23, 23, 23, 23], [23, 23, 23, 23], [23, 23, 23, 23], [23, 23, 23, 23], [23, 23, 23, 23], [23, 23, 23, 23], [23, 23, 23, 23], [23, 23, 23, 23], [23, 23, 23, 23], [23, 23, 23, 23], [23, 23, 23, 23], [23, 23, 23, 23], [23, 23, 23, 23], [23, 23, 23, 23], [23, 23, 23, 23], [23, 23, 23, 23], [23, 23, 23, 23], [23, 23, 23, 23], [23, 23, 23, 23], [23, 23, 23, 23], [23, 23, 23, 23]]\n"
     ]
    }
   ],
   "source": [
    "BinCapacity=100\n",
    "Results=Best_Fit(Ltotal,BinCapacity)\n",
    "print(len(Results),\" : \", Results)"
   ]
  },
  {
   "cell_type": "code",
   "execution_count": 38,
   "metadata": {},
   "outputs": [
    {
     "name": "stdout",
     "output_type": "stream",
     "text": [
      "99  :  [[51, 27], [51, 27], [51, 27], [51, 27], [51, 27], [51, 27], [51, 27], [51, 27], [51, 27], [51, 27], [51, 27], [51, 27], [51, 27], [51, 27], [51, 27], [51, 27], [51, 27], [51, 27], [51, 27], [51, 27], [51, 27], [51, 27], [51, 27], [51, 27], [51, 27], [51, 27], [51, 27], [51, 27], [51, 27], [51, 27], [51, 27], [51, 27], [51, 27], [51, 27], [51, 27], [51, 27], [51, 27], [51, 27], [51, 27], [51, 27], [51, 27], [51, 27], [51, 27], [51, 27], [51, 27], [51, 27], [51, 27], [51, 27], [51, 27], [51, 27], [51, 27], [51, 27], [51, 27], [51, 27], [26, 26, 26], [26, 26, 26], [26, 26, 26], [26, 26, 26], [26, 26, 26], [26, 26, 26], [26, 26, 26], [26, 26, 26], [26, 26, 26], [26, 26, 26], [26, 26, 26], [26, 26, 26], [26, 26, 26], [26, 26, 26], [26, 26, 26], [26, 26, 26], [26, 26, 26], [26, 26, 26], [23, 23, 23, 23], [23, 23, 23, 23], [23, 23, 23, 23], [23, 23, 23, 23], [23, 23, 23, 23], [23, 23, 23, 23], [23, 23, 23, 23], [23, 23, 23, 23], [23, 23, 23, 23], [23, 23, 23, 23], [23, 23, 23, 23], [23, 23, 23, 23], [23, 23, 23, 23], [23, 23, 23, 23], [23, 23, 23, 23], [23, 23, 23, 23], [23, 23, 23, 23], [23, 23, 23, 23], [23, 23, 23, 23], [23, 23, 23, 23], [23, 23, 23, 23], [23, 23, 23, 23], [23, 23, 23, 23], [23, 23, 23, 23], [23, 23, 23, 23], [23, 23, 23, 23], [23, 23, 23, 23]]\n"
     ]
    }
   ],
   "source": [
    "BinCapacity=100\n",
    "Results=First_Fit(Ltotal,BinCapacity)\n",
    "print(len(Results),\" : \", Results)"
   ]
  },
  {
   "cell_type": "code",
   "execution_count": 39,
   "metadata": {},
   "outputs": [
    {
     "name": "stdout",
     "output_type": "stream",
     "text": [
      "Length of solution:  99\n",
      "[[51, 27], [51, 27], [51, 27], [51, 27], [51, 27], [51, 27], [51, 27], [51, 27], [51, 27], [51, 27], [51, 27], [51, 27], [51, 27], [51, 27], [51, 27], [51, 27], [51, 27], [51, 27], [51, 27], [51, 27], [51, 27], [51, 27], [51, 27], [51, 27], [51, 27], [51, 27], [51, 27], [51, 27], [51, 27], [51, 27], [51, 27], [51, 27], [51, 27], [51, 27], [51, 27], [51, 27], [51, 27], [51, 27], [51, 27], [51, 27], [51, 27], [51, 27], [51, 27], [51, 27], [51, 27], [51, 27], [51, 27], [51, 27], [51, 27], [51, 27], [51, 27], [51, 27], [51, 27], [51, 27], [26, 26, 26], [26, 26, 26], [26, 26, 26], [26, 26, 26], [26, 26, 26], [26, 26, 26], [26, 26, 26], [26, 26, 26], [26, 26, 26], [26, 26, 26], [26, 26, 26], [26, 26, 26], [26, 26, 26], [26, 26, 26], [26, 26, 26], [26, 26, 26], [26, 26, 26], [26, 26, 26], [23, 23, 23, 23], [23, 23, 23, 23], [23, 23, 23, 23], [23, 23, 23, 23], [23, 23, 23, 23], [23, 23, 23, 23], [23, 23, 23, 23], [23, 23, 23, 23], [23, 23, 23, 23], [23, 23, 23, 23], [23, 23, 23, 23], [23, 23, 23, 23], [23, 23, 23, 23], [23, 23, 23, 23], [23, 23, 23, 23], [23, 23, 23, 23], [23, 23, 23, 23], [23, 23, 23, 23], [23, 23, 23, 23], [23, 23, 23, 23], [23, 23, 23, 23], [23, 23, 23, 23], [23, 23, 23, 23], [23, 23, 23, 23], [23, 23, 23, 23], [23, 23, 23, 23], [23, 23, 23, 23]]\n"
     ]
    }
   ],
   "source": [
    "BinCapacity=100\n",
    "Results=First_Fit_Dec(Ltotal,BinCapacity)\n",
    "print(\"Length of solution: \",len(Results))\n",
    "print(Results)"
   ]
  },
  {
   "cell_type": "markdown",
   "metadata": {},
   "source": [
    "## The Graham Example"
   ]
  },
  {
   "cell_type": "code",
   "execution_count": 106,
   "metadata": {},
   "outputs": [
    {
     "data": {
      "image/jpeg": "[encoded data removed]",
      "text/plain": [
       "<IPython.core.display.Image object>"
      ]
     },
     "execution_count": 106,
     "metadata": {},
     "output_type": "execute_result"
    }
   ],
   "source": [
    "from IPython.display import Image\n",
    "Image(\"C:/Users/RAVITEJA/Downloads/Grahams.jpeg\")\n"
   ]
  },
  {
   "cell_type": "code",
   "execution_count": 41,
   "metadata": {},
   "outputs": [],
   "source": [
    "Graham=[442,\n",
    "        252,252,252,252,252,252,252,\n",
    "        127,127,127,127,127,\n",
    "        106,106,106,106,\n",
    "        85,84,46,\n",
    "        37,37,\n",
    "        12,12,12,\n",
    "        10,10,10,10,10,10,\n",
    "        9,9]"
   ]
  },
  {
   "cell_type": "code",
   "execution_count": 42,
   "metadata": {},
   "outputs": [
    {
     "name": "stdout",
     "output_type": "stream",
     "text": [
      "Length of solution:  7\n",
      "[[442, 46, 12, 12, 12], [252, 252, 10, 10], [252, 252, 10, 10], [252, 252, 10, 10], [252, 127, 127, 9, 9], [127, 127, 127, 106, 37], [106, 106, 106, 85, 84, 37]]\n"
     ]
    }
   ],
   "source": [
    "BinCapacity=524\n",
    "Results=First_Fit(Graham,BinCapacity)\n",
    "print(\"Length of solution: \",len(Results))\n",
    "print(Results)"
   ]
  },
  {
   "cell_type": "code",
   "execution_count": 43,
   "metadata": {},
   "outputs": [
    {
     "name": "stdout",
     "output_type": "stream",
     "text": [
      "Length of solution:  8\n",
      "[[9, 9, 10, 10, 10, 10, 10, 10, 12, 12, 12, 37, 37, 46, 84, 85, 106], [106, 106, 106, 127], [127, 127, 127, 127], [252, 252], [252, 252], [252, 252], [252], [442]]\n"
     ]
    }
   ],
   "source": [
    "# We reverse the List\n",
    "BinCapacity=524\n",
    "Results=First_Fit(Graham[::-1],BinCapacity)\n",
    "print(\"Length of solution: \",len(Results))\n",
    "print(Results)"
   ]
  },
  {
   "cell_type": "code",
   "execution_count": 44,
   "metadata": {},
   "outputs": [
    {
     "name": "stdout",
     "output_type": "stream",
     "text": [
      "7  :  [[442, 46, 12, 12, 12], [252, 252, 10, 10], [252, 252, 10, 10], [252, 252, 10, 10], [252, 127, 127, 9, 9], [127, 127, 127, 106, 37], [106, 106, 106, 85, 84, 37]]\n"
     ]
    }
   ],
   "source": [
    "# We get of course the same result of the initial LIst with FFD\n",
    "Results=First_Fit_Dec(Graham,BinCapacity)\n",
    "print(len(Results),\" : \", Results)"
   ]
  },
  {
   "cell_type": "code",
   "execution_count": 26,
   "metadata": {},
   "outputs": [],
   "source": [
    "# We suppres 46\n",
    "Graham2=[442,\n",
    "                 252,252,252,252,252,252,252,\n",
    "                 127,127,127,127,127,\n",
    "                 106,106,106,106,\n",
    "                 85,84,  # 46 has been suppressed\n",
    "                 37,37,\n",
    "                 12,12,12,\n",
    "                 10,10,10,10,10,10,\n",
    "                 9,9]"
   ]
  },
  {
   "cell_type": "code",
   "execution_count": 27,
   "metadata": {},
   "outputs": [
    {
     "name": "stdout",
     "output_type": "stream",
     "text": [
      "8  :  [[442, 37, 37], [252, 252, 12], [252, 252, 12], [252, 252, 12], [252, 127, 127, 10], [127, 127, 127, 106, 10, 10, 10], [106, 106, 106, 85, 84, 10, 10, 9], [9]]\n"
     ]
    }
   ],
   "source": [
    "# And we need npw 8 bins !!!!!!\n",
    "Results=First_Fit(Graham2,BinCapacity)\n",
    "print(len(Results),\" : \", Results)"
   ]
  },
  {
   "cell_type": "code",
   "execution_count": 28,
   "metadata": {},
   "outputs": [
    {
     "name": "stdout",
     "output_type": "stream",
     "text": [
      "8  :  [[442, 37, 37], [252, 252, 12], [252, 252, 12], [252, 252, 12], [252, 127, 127, 10], [127, 127, 127, 106, 10, 10, 10], [106, 106, 106, 85, 84, 10, 10, 9], [9]]\n"
     ]
    }
   ],
   "source": [
    "Results=First_Fit_Dec(Graham2,BinCapacity)\n",
    "print(len(Results),\" : \", Results)"
   ]
  },
  {
   "cell_type": "code",
   "execution_count": 29,
   "metadata": {},
   "outputs": [
    {
     "name": "stdout",
     "output_type": "stream",
     "text": [
      "[442, 252, 252, 252, 252, 252, 252, 252, 127, 127, 127, 127, 127, 106, 106, 106, 106, 85, 84, 37, 37, 12, 12, 12, 10, 10, 10, 10, 10, 10, 9, 9]\n"
     ]
    }
   ],
   "source": [
    "print(Graham2)"
   ]
  },
  {
   "cell_type": "markdown",
   "metadata": {},
   "source": [
    "## Your Work (II) The  Cut & Process Strategy  [A Two Phase Strategy]"
   ]
  },
  {
   "cell_type": "code",
   "execution_count": null,
   "metadata": {},
   "outputs": [],
   "source": [
    "def Splitbykcut(List_items,kcut):\n",
    "    A=[]\n",
    "    B=[]\n",
    "    for i in range(len(List_items)):\n",
    "        if i<kcut:\n",
    "            A.append(List_items[i])\n",
    "        else:\n",
    "            B.append(List_items[i])\n",
    "    \n",
    "    return ([A,B])"
   ]
  },
  {
   "cell_type": "code",
   "execution_count": 66,
   "metadata": {},
   "outputs": [],
   "source": [
    "# Your code here\n",
    "# K_cut is chosen by the user but you can select/choose/design a specific tactic\n",
    "def Cut_Process(List_items, BinCapacity, K_cut):\n",
    "    # ....$\n",
    "    S=Splitbykcut(sorted(List_items),K_cut)\n",
    "    S1=First_Fit_Dec(S[0], BinCapacity)\n",
    "    S2=Best_Fit_Dec(S[1], BinCapacity)\n",
    "    \n",
    "    \n",
    "    return (S1+S2)"
   ]
  },
  {
   "cell_type": "markdown",
   "metadata": {},
   "source": [
    "## TESTS  ALL YOUR CODES/ALGORITHMS  HERE"
   ]
  },
  {
   "cell_type": "code",
   "execution_count": 109,
   "metadata": {},
   "outputs": [
    {
     "name": "stdout",
     "output_type": "stream",
     "text": [
      "21  :  [[8, 16, 12, 8], [45, 18], [30, 7, 10, 14, 9], [9, 52], [88], [1, 1, 1, 1, 1, 1, 1, 10, 11, 12, 13, 14], [15, 16, 17, 18], [18, 19, 10, 20], [30, 40], [41], [42], [43], [44], [45], [46], [47], [48], [49, 2, 3, 4, 5, 6], [7, 8, 9, 10, 15, 20], [21, 22, 23], [24]]\n"
     ]
    }
   ],
   "source": [
    "#Next-Fit Algorithm\n",
    "List_items = [8, 16, 12, 8, 45, 18, 30, 7, 10, 14, 9, 9, 52, 88,\n",
    "         1,1,1,1,1,1,1,10,11,12,13,14,15,16,17,18,18,19,10,20,\n",
    "        30,40,41,42,43,44,45,46,47,48,49,2,3,4,5,6,7,8,9,10,\n",
    "         15,20,21,22,23,24]\n",
    "# items.reverse()\n",
    "# print(items)\n",
    "BinCapacity = 75\n",
    "bins=Next_Fit(List_items, BinCapacity)\n",
    "print(len(bins),\" : \",bins)"
   ]
  },
  {
   "cell_type": "code",
   "execution_count": 112,
   "metadata": {},
   "outputs": [
    {
     "name": "stdout",
     "output_type": "stream",
     "text": [
      "21  :  [[88], [52], [49], [48], [47], [46], [45], [45], [44], [43], [42], [41], [40, 30], [30, 24], [23, 22, 21], [20, 20, 19], [18, 18, 18, 17], [16, 16, 15, 15], [14, 14, 13, 12, 12], [11, 10, 10, 10, 10, 9, 9], [9, 8, 8, 8, 7, 7, 6, 5, 4, 3, 2, 1, 1, 1, 1, 1, 1, 1]]\n"
     ]
    }
   ],
   "source": [
    "#Next-fit Decreasing Algorithm\n",
    "List_items = [8, 16, 12, 8, 45, 18, 30, 7, 10, 14, 9, 9, 52, 88,\n",
    "         1,1,1,1,1,1,1,10,11,12,13,14,15,16,17,18,18,19,10,20,\n",
    "        30,40,41,42,43,44,45,46,47,48,49,2,3,4,5,6,7,8,9,10,\n",
    "         15,20,21,22,23,24]\n",
    "# items.reverse()\n",
    "# print(items)\n",
    "BinCapacity = 75\n",
    "bins=Next_Fit_Dec(List_items, BinCapacity)\n",
    "print(len(bins),\" : \",bins)"
   ]
  },
  {
   "cell_type": "code",
   "execution_count": 102,
   "metadata": {},
   "outputs": [
    {
     "name": "stdout",
     "output_type": "stream",
     "text": [
      "18  :  [[20, 30], [41, 3, 7], [44, 8], [45, 9], [40, 2, 4, 10], [46, 15], [52, 11], [18, 18, 19, 10], [42, 5, 20], [47, 21], [8, 16, 12, 8, 18, 7], [48, 22], [10, 14, 9, 9, 1, 1, 1, 1, 1, 1, 1, 10, 12], [43, 6, 23], [49, 24], [13, 14, 15, 16, 17], [45, 30], [88]]\n"
     ]
    }
   ],
   "source": [
    "#Best-fit Algorithm\n",
    "List_items = [8, 16, 12, 8, 45, 18, 30, 7, 10, 14, 9, 9, 52, 88,\n",
    "         1,1,1,1,1,1,1,10,11,12,13,14,15,16,17,18,18,19,10,20,\n",
    "        30,40,41,42,43,44,45,46,47,48,49,2,3,4,5,6,7,8,9,10,\n",
    "         15,20,21,22,23,24]\n",
    "# items.reverse()\n",
    "# print(items)\n",
    "BinCapacity = 75\n",
    "\n",
    "bins=Best_Fit(List_items, 75)\n",
    "print(len(bins),\" : \",bins)"
   ]
  },
  {
   "cell_type": "code",
   "execution_count": 103,
   "metadata": {},
   "outputs": [
    {
     "name": "stdout",
     "output_type": "stream",
     "text": [
      "16  :  [[42, 24, 5, 1], [49, 18, 4, 1], [15, 14, 14, 13, 12, 3, 1], [40, 30, 1, 1], [52, 18, 2], [43, 23, 6], [12, 11, 10, 10, 10, 10, 9], [41, 30, 1, 1], [44, 22, 7], [45, 21, 7], [17, 16, 16, 15, 9], [46, 20, 8], [47, 19, 8], [48, 18, 8], [45, 20, 9], [88]]\n"
     ]
    }
   ],
   "source": [
    "#Best-fit Decreasing Algorithm\n",
    "bins=Best_Fit_Dec(List_items, 75)\n",
    "print(len(bins),\" : \",bins)"
   ]
  },
  {
   "cell_type": "markdown",
   "metadata": {},
   "source": [
    "## Tests with the interlacing tactic"
   ]
  },
  {
   "cell_type": "code",
   "execution_count": null,
   "metadata": {},
   "outputs": [],
   "source": [
    "# ...."
   ]
  },
  {
   "cell_type": "code",
   "execution_count": 115,
   "metadata": {},
   "outputs": [
    {
     "name": "stdout",
     "output_type": "stream",
     "text": [
      "14  :  [[15, 14, 15], [52, 1, 30], [46, 1, 5, 7, 8, 8, 9], [23, 9, 22, 9, 21], [45, 3, 6, 8, 24], [48, 1, 7, 30], [18, 10, 18, 11, 18, 12], [17, 12, 16, 13, 16, 14], [20, 10, 20, 10, 19, 10], [47, 1, 41], [49, 1, 40], [44, 4, 42], [45, 2, 43], [1, 88, 1]]\n"
     ]
    }
   ],
   "source": [
    "#Best-fit Interlacing Algorithm\n",
    "bins=Best_Fit_Interlace(List_items, 90)\n",
    "print(len(bins),\" : \",bins)"
   ]
  },
  {
   "cell_type": "code",
   "execution_count": 116,
   "metadata": {},
   "outputs": [
    {
     "name": "stdout",
     "output_type": "stream",
     "text": [
      "14  :  [[1, 88, 1], [52, 1, 1, 1, 1, 1, 2, 3, 4, 5, 6, 7], [49, 41], [48, 42], [47, 43], [46, 44], [45, 45], [40, 7, 30, 8], [30, 8, 24, 8, 9, 9], [23, 22, 21, 9, 10], [20, 20, 10, 19, 10, 10], [18, 18, 11, 18, 12, 12], [17, 16, 13, 16, 14, 14], [15, 15]]\n"
     ]
    }
   ],
   "source": [
    "# First-fit Interlacing Algorithm\n",
    "List_items = [8, 16, 12, 8, 45, 18, 30, 7, 10, 14, 9, 9, 52, 88,\n",
    "         1,1,1,1,1,1,1,10,11,12,13,14,15,16,17,18,18,19,10,20,\n",
    "        30,40,41,42,43,44,45,46,47,48,49,2,3,4,5,6,7,8,9,10,\n",
    "         15,20,21,22,23,24]\n",
    "# items.reverse()\n",
    "# print(items)\n",
    "BinCapacity = 90\n",
    "bins=First_Fit_Interlace(List_items, BinCapacity)\n",
    "print(len(bins),\" : \",bins)"
   ]
  },
  {
   "cell_type": "markdown",
   "metadata": {},
   "source": [
    "### By Observations the interlacing technic could optimize the bins for the case of dataset produced by Test1 Function"
   ]
  },
  {
   "cell_type": "code",
   "execution_count": 119,
   "metadata": {},
   "outputs": [
    {
     "name": "stdout",
     "output_type": "stream",
     "text": [
      "90  :  [[27, 23, 27], [27, 23, 27], [27, 23, 27], [27, 23, 27], [27, 23, 27], [27, 23, 27], [27, 23, 27], [27, 23, 27], [27, 23, 27], [27, 23, 27], [27, 23, 27], [27, 23, 27], [27, 23, 27], [27, 23, 27], [27, 23, 27], [27, 23, 27], [27, 23, 27], [27, 23, 27], [27, 23, 27], [27, 23, 27], [27, 23, 27], [27, 23, 27], [27, 23, 27], [27, 23, 27], [27, 23, 27], [27, 23, 27], [27, 23, 27], [26, 26, 26], [26, 26, 26], [26, 26, 26], [26, 26, 26], [26, 26, 26], [26, 26, 26], [26, 26, 26], [26, 26, 26], [26, 26, 26], [51, 23, 23], [51, 23, 23], [51, 23, 23], [51, 23, 23], [51, 23, 23], [51, 23, 23], [51, 23, 23], [51, 23, 23], [51, 23, 23], [51, 23, 23], [51, 23, 23], [51, 23, 23], [51, 23, 23], [51, 23, 23], [51, 23, 23], [51, 23, 23], [51, 23, 23], [51, 23, 23], [51, 23, 23], [51, 23, 23], [51, 23, 23], [51, 23, 23], [51, 23, 23], [51, 23, 23], [51, 23, 23], [51, 23, 23], [23, 51, 23], [51, 23, 26], [51, 23, 26], [51, 23, 26], [51, 23, 26], [51, 23, 26], [51, 23, 26], [51, 23, 26], [51, 23, 26], [51, 23, 26], [51, 23, 26], [51, 23, 26], [51, 23, 26], [51, 23, 26], [51, 23, 26], [51, 23, 26], [51, 23, 26], [51, 23, 26], [51, 23, 26], [51, 23, 26], [51, 23, 26], [51, 23, 26], [51, 23, 26], [51, 23, 26], [51, 23, 26], [51, 23, 26], [51, 23, 26], [51, 23, 26]]\n"
     ]
    }
   ],
   "source": [
    "#Best-fit Interlacing Algorithm \n",
    "bins=Best_Fit_Interlace(Ltotal, 100)\n",
    "print(len(bins),\" : \",bins)"
   ]
  },
  {
   "cell_type": "code",
   "execution_count": 120,
   "metadata": {},
   "outputs": [
    {
     "name": "stdout",
     "output_type": "stream",
     "text": [
      "90  :  [[23, 51, 23], [51, 23, 23], [51, 23, 23], [51, 23, 23], [51, 23, 23], [51, 23, 23], [51, 23, 23], [51, 23, 23], [51, 23, 23], [51, 23, 23], [51, 23, 23], [51, 23, 23], [51, 23, 23], [51, 23, 23], [51, 23, 23], [51, 23, 23], [51, 23, 23], [51, 23, 23], [51, 23, 23], [51, 23, 23], [51, 23, 23], [51, 23, 23], [51, 23, 23], [51, 23, 23], [51, 23, 23], [51, 23, 23], [51, 23, 23], [51, 23, 23], [51, 27], [51, 27], [51, 23, 23], [51, 27], [51, 27], [51, 23, 23], [51, 27], [51, 27], [51, 23, 23], [51, 27], [51, 27], [51, 23, 23], [51, 27], [51, 27], [51, 23, 23], [51, 27], [51, 27], [51, 23, 23], [51, 27], [51, 27], [51, 23, 23], [51, 27], [51, 27], [51, 23, 23], [51, 27], [51, 27], [23, 27, 23, 27], [23, 27, 23, 27], [23, 27, 23, 27], [23, 27, 23, 27], [23, 27, 23, 27], [23, 27, 23, 27], [23, 27, 23, 27], [23, 27, 23, 27], [23, 27, 23, 27], [23, 27, 23, 27], [23, 27, 23, 27], [23, 27, 23, 27], [23, 27, 23, 27], [23, 27, 23, 27], [23, 27, 23, 27], [23, 27, 23, 27], [23, 27, 23, 27], [23, 27, 23, 27], [26, 26, 26], [26, 26, 26], [26, 26, 26], [26, 26, 26], [26, 26, 26], [26, 26, 26], [26, 26, 26], [26, 26, 26], [26, 26, 26], [26, 26, 26], [26, 26, 26], [26, 26, 26], [26, 26, 26], [26, 26, 26], [26, 26, 26], [26, 26, 26], [26, 26, 26], [26, 26, 26]]\n"
     ]
    }
   ],
   "source": [
    "#First-fit Interlacing Algorithm \n",
    "bins=First_Fit_Interlace(Ltotal, 100)\n",
    "print(len(bins),\" : \",bins)"
   ]
  },
  {
   "cell_type": "code",
   "execution_count": 121,
   "metadata": {},
   "outputs": [
    {
     "name": "stdout",
     "output_type": "stream",
     "text": [
      "8  :  [[9, 442, 9, 10, 10, 10, 10, 10, 10], [252, 252, 12], [252, 252, 12], [252, 252, 12], [252, 127, 127], [127, 37, 127, 37, 127, 46], [106, 84, 106, 85, 106], [106]]\n"
     ]
    }
   ],
   "source": [
    "Graham=[442,\n",
    "                 252,252,252,252,252,252,252,\n",
    "                 127,127,127,127,127,\n",
    "                 106,106,106,106,\n",
    "                 85,84,46,\n",
    "                 37,37,\n",
    "                 12,12,12,\n",
    "                 10,10,10,10,10,10,\n",
    "                 9,9]\n",
    "BinCapacity = 524\n",
    "#First-fit Interlacing Algorithm \n",
    "bins=First_Fit_Interlace(Graham, BinCapacity)\n",
    "print(len(bins),\" : \",bins)"
   ]
  },
  {
   "cell_type": "code",
   "execution_count": 122,
   "metadata": {},
   "outputs": [
    {
     "name": "stdout",
     "output_type": "stream",
     "text": [
      "8  :  [[106, 106], [252, 12, 127, 12, 37], [127, 46, 106, 84, 106], [9, 442, 9, 10, 10, 10], [252, 10, 252], [252, 10, 252], [252, 10, 252], [127, 12, 127, 37, 127, 85]]\n"
     ]
    }
   ],
   "source": [
    "#Best-fit Interlacing Algorithm \n",
    "bins=Best_Fit_Interlace(Graham, BinCapacity)\n",
    "print(len(bins),\" : \",bins)"
   ]
  },
  {
   "cell_type": "markdown",
   "metadata": {},
   "source": [
    "## Tests with theTwo Phase Strategy"
   ]
  },
  {
   "cell_type": "code",
   "execution_count": 129,
   "metadata": {},
   "outputs": [
    {
     "name": "stdout",
     "output_type": "stream",
     "text": [
      "17  :  [[5, 4, 3, 2, 1, 1, 1, 1, 1, 1, 1], [42, 24], [49, 18], [15, 14, 14, 13, 12], [52, 18], [40, 30], [41, 30], [43, 23, 6], [12, 11, 10, 10, 10, 10, 9], [44, 22, 7], [45, 21, 7], [17, 16, 16, 15, 9], [46, 20, 8], [47, 19, 8], [48, 18, 8], [45, 20, 9], [88]]\n"
     ]
    }
   ],
   "source": [
    "List_items = [8, 16, 12, 8, 45, 18, 30, 7, 10, 14, 9, 9, 52, 88,\n",
    "         1,1,1,1,1,1,1,10,11,12,13,14,15,16,17,18,18,19,10,20,\n",
    "        30,40,41,42,43,44,45,46,47,48,49,2,3,4,5,6,7,8,9,10,\n",
    "         15,20,21,22,23,24]\n",
    "\n",
    "BinCapacity = 75\n",
    "\n",
    "#Cut Process using First fit decreasing on k_cut no of smalls and Best Fit decreasing on rest\n",
    "bins=Cut_Process(List_items, BinCapacity,11)\n",
    "print(len(bins),\" : \",bins)"
   ]
  },
  {
   "cell_type": "code",
   "execution_count": 52,
   "metadata": {},
   "outputs": [
    {
     "name": "stdout",
     "output_type": "stream",
     "text": [
      "8  :  [[12, 12, 12, 10, 10, 10, 10, 10, 10, 9, 9], [442, 46], [252, 252], [252, 252], [252, 252], [252, 127, 127], [127, 127, 127, 106, 37], [106, 106, 106, 85, 84, 37]]\n"
     ]
    }
   ],
   "source": [
    "Graham=[442,\n",
    "                 252,252,252,252,252,252,252,\n",
    "                 127,127,127,127,127,\n",
    "                 106,106,106,106,\n",
    "                 85,84,46,\n",
    "                 37,37,\n",
    "                 12,12,12,\n",
    "                 10,10,10,10,10,10,\n",
    "                 9,9]\n",
    "BinCapacity = 524\n",
    "\n",
    "#Cut Process using First fit decreasing on k_cut no of smalls and Best Fit decreasing on rest\n",
    "bins=Cut_Process(Graham, BinCapacity,11)\n",
    "print(len(bins),\" : \",bins)"
   ]
  },
  {
   "cell_type": "code",
   "execution_count": 95,
   "metadata": {},
   "outputs": [
    {
     "name": "stdout",
     "output_type": "stream",
     "text": [
      "81\n",
      "Length of Input:  270 [51, 51, 51, 51, 51, 51, 51, 51, 51, 51, 51, 51, 51, 51, 51, 51, 51, 51, 51, 51, 51, 51, 51, 51, 51, 51, 51, 51, 51, 51, 51, 51, 51, 51, 51, 51, 51, 51, 51, 51, 51, 51, 51, 51, 51, 51, 51, 51, 51, 51, 51, 51, 51, 51, 27, 27, 27, 27, 27, 27, 27, 27, 27, 27, 27, 27, 27, 27, 27, 27, 27, 27, 27, 27, 27, 27, 27, 27, 27, 27, 27, 27, 27, 27, 27, 27, 27, 27, 27, 27, 27, 27, 27, 27, 27, 27, 27, 27, 27, 27, 27, 27, 27, 27, 27, 27, 27, 27, 26, 26, 26, 26, 26, 26, 26, 26, 26, 26, 26, 26, 26, 26, 26, 26, 26, 26, 26, 26, 26, 26, 26, 26, 26, 26, 26, 26, 26, 26, 26, 26, 26, 26, 26, 26, 26, 26, 26, 26, 26, 26, 26, 26, 26, 26, 26, 26, 26, 26, 26, 26, 26, 26, 23, 23, 23, 23, 23, 23, 23, 23, 23, 23, 23, 23, 23, 23, 23, 23, 23, 23, 23, 23, 23, 23, 23, 23, 23, 23, 23, 23, 23, 23, 23, 23, 23, 23, 23, 23, 23, 23, 23, 23, 23, 23, 23, 23, 23, 23, 23, 23, 23, 23, 23, 23, 23, 23, 23, 23, 23, 23, 23, 23, 23, 23, 23, 23, 23, 23, 23, 23, 23, 23, 23, 23, 23, 23, 23, 23, 23, 23, 23, 23, 23, 23, 23, 23, 23, 23, 23, 23, 23, 23, 23, 23, 23, 23, 23, 23, 23, 23, 23, 23, 23, 23, 23, 23, 23, 23, 23, 23]\n"
     ]
    }
   ],
   "source": [
    "def Test_1(n, BinCapacity):\n",
    "# Let n > 0 an integer and C = 100 :\n",
    "# 1: 6 n times the value 51\n",
    "# 2: 6 n times the value 27\n",
    "# 3: 6 n times the value 26\n",
    "# 4: 12 n times the value 23\n",
    "    L51=[51 for i in range(6*n) ]\n",
    "    L27=[27 for i in range(6*n) ]\n",
    "    L26=[26 for i in range(6*n) ]\n",
    "    L23=[23 for i in range(12*n) ]\n",
    "    Ltotal=[]    \n",
    "    Ltotal.extend(L51)\n",
    "    Ltotal.extend(L27)\n",
    "    Ltotal.extend(L26)\n",
    "    Ltotal.extend(L23)    \n",
    "    print(\"Length of Input: \",len(Ltotal),Ltotal)\n",
    "    return(Ltotal) \n",
    "\n",
    "print(9*9)\n",
    "Ltotal=Test_1(n=9,BinCapacity=100)"
   ]
  },
  {
   "cell_type": "code",
   "execution_count": 96,
   "metadata": {},
   "outputs": [
    {
     "name": "stdout",
     "output_type": "stream",
     "text": [
      "99  :  [[23, 23, 23, 23], [23, 23, 23, 23], [23, 23, 23, 23], [23, 23, 23, 23], [23, 23, 23, 23], [23, 23, 23, 23], [23, 23, 23, 23], [23, 23, 23, 23], [23, 23, 23, 23], [23, 23, 23, 23], [23, 23, 23, 23], [23, 23, 23, 23], [23, 23, 23, 23], [23, 23, 23, 23], [23, 23, 23, 23], [23, 23, 23, 23], [23, 23, 23, 23], [23, 23, 23, 23], [23, 23, 23, 23], [23, 23, 23, 23], [23, 23, 23, 23], [26, 26, 26], [26, 26, 26], [26, 26, 26], [26, 26, 26], [26, 26, 26], [26, 26, 26], [26, 26, 26], [26, 26, 26], [26, 26, 26], [26, 26, 26], [26, 26, 26], [26, 26, 26], [26, 26, 26], [26, 26, 26], [26, 26, 26], [26, 26, 26], [26, 26, 26], [26, 26, 26], [51, 27], [51, 27], [51, 27], [51, 27], [51, 27], [51, 27], [51, 27], [51, 27], [51, 27], [51, 27], [51, 27], [51, 27], [51, 27], [51, 27], [51, 27], [51, 27], [51, 27], [51, 27], [51, 27], [51, 27], [51, 27], [51, 27], [51, 27], [51, 27], [51, 27], [51, 27], [51, 27], [51, 27], [51, 27], [51, 27], [51, 27], [51, 27], [51, 27], [51, 27], [51, 27], [51, 27], [51, 27], [51, 27], [51, 27], [51, 27], [51, 27], [51, 27], [51, 27], [51, 27], [51, 27], [51, 27], [51, 27], [51, 27], [51, 27], [51, 27], [51, 27], [51, 27], [51, 27], [51, 27], [23, 23, 23, 23], [23, 23, 23, 23], [23, 23, 23, 23], [23, 23, 23, 23], [23, 23, 23, 23], [23, 23, 23, 23]]\n"
     ]
    }
   ],
   "source": [
    "BinCapacity=100\n",
    "bins=Cut_Process(Ltotal, BinCapacity,84)\n",
    "print(len(bins),\" : \",bins)"
   ]
  },
  {
   "cell_type": "code",
   "execution_count": null,
   "metadata": {},
   "outputs": [],
   "source": []
  },
  {
   "cell_type": "code",
   "execution_count": null,
   "metadata": {},
   "outputs": [],
   "source": []
  }
 ],
 "metadata": {
  "kernelspec": {
   "display_name": "Python 3 (ipykernel)",
   "language": "python",
   "name": "python3"
  },
  "language_info": {
   "codemirror_mode": {
    "name": "ipython",
    "version": 3
   },
   "file_extension": ".py",
   "mimetype": "text/x-python",
   "name": "python",
   "nbconvert_exporter": "python",
   "pygments_lexer": "ipython3",
   "version": "3.9.7"
  }
 },
 "nbformat": 4,
 "nbformat_minor": 4
}
